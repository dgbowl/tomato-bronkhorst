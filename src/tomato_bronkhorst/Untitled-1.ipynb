{
 "cells": [
  {
   "cell_type": "code",
   "execution_count": 1,
   "metadata": {},
   "outputs": [],
   "source": [
    "from propar import PP_TYPE_FLOAT\n",
    "from propar import instrument as Instrument"
   ]
  },
  {
   "cell_type": "code",
   "execution_count": 2,
   "metadata": {},
   "outputs": [],
   "source": [
    "PROPERTY_MAP = {\n",
    "    \"fmeasure\": {\"dde_nr\": 205, \"proc_nr\": 33, \"parm_nr\": 0, \"param_id\": 65},\n",
    "    \"fsetpoint\": {\"dde_nr\": 206, \"proc_nr\": 33, \"parm_nr\": 3, \"param_id\": 65},\n",
    "}"
   ]
  },
  {
   "cell_type": "code",
   "execution_count": 42,
   "metadata": {},
   "outputs": [],
   "source": [
    "i80 = Instrument(comport=\"COM5\", address=80)\n",
    "i81 = Instrument(comport=\"COM5\", address=81)\n",
    "i82 = Instrument(comport=\"COM5\", address=82)"
   ]
  },
  {
   "cell_type": "code",
   "execution_count": 152,
   "metadata": {},
   "outputs": [
    {
     "name": "stdout",
     "output_type": "stream",
     "text": [
      "1.728792428970337\n",
      "1.6999999284744263\n",
      "10.00425910949707\n",
      "9.999499320983887\n",
      "3.1913352012634277\n",
      "0.0\n"
     ]
    }
   ],
   "source": [
    "print(i80.readParameter(dde_nr=PROPERTY_MAP[\"fmeasure\"][\"dde_nr\"]))\n",
    "print(i80.readParameter(dde_nr=PROPERTY_MAP[\"fsetpoint\"][\"dde_nr\"]))\n",
    "print(i81.readParameter(dde_nr=PROPERTY_MAP[\"fmeasure\"][\"dde_nr\"]))\n",
    "print(i81.readParameter(dde_nr=PROPERTY_MAP[\"fsetpoint\"][\"dde_nr\"]))\n",
    "print(i82.readParameter(dde_nr=PROPERTY_MAP[\"fmeasure\"][\"dde_nr\"]))\n",
    "print(i82.readParameter(dde_nr=PROPERTY_MAP[\"fsetpoint\"][\"dde_nr\"]))"
   ]
  },
  {
   "cell_type": "code",
   "execution_count": 149,
   "metadata": {},
   "outputs": [
    {
     "data": {
      "text/plain": [
       "True"
      ]
     },
     "execution_count": 149,
     "metadata": {},
     "output_type": "execute_result"
    }
   ],
   "source": [
    "i80.writeParameter(dde_nr=PROPERTY_MAP[\"fsetpoint\"][\"dde_nr\"], data=1.7)\n",
    "i81.writeParameter(dde_nr=PROPERTY_MAP[\"fsetpoint\"][\"dde_nr\"], data=10.0)\n",
    "i82.writeParameter(dde_nr=PROPERTY_MAP[\"fsetpoint\"][\"dde_nr\"], data=0.0)"
   ]
  },
  {
   "cell_type": "code",
   "execution_count": 153,
   "metadata": {},
   "outputs": [],
   "source": [
    "del i80"
   ]
  },
  {
   "cell_type": "code",
   "execution_count": 154,
   "metadata": {},
   "outputs": [],
   "source": [
    "del i81"
   ]
  },
  {
   "cell_type": "code",
   "execution_count": 155,
   "metadata": {},
   "outputs": [],
   "source": [
    "del i82"
   ]
  },
  {
   "cell_type": "code",
   "execution_count": null,
   "metadata": {},
   "outputs": [],
   "source": []
  }
 ],
 "metadata": {
  "kernelspec": {
   "display_name": "tomato-bronkhorst-dev",
   "language": "python",
   "name": "python3"
  },
  "language_info": {
   "codemirror_mode": {
    "name": "ipython",
    "version": 3
   },
   "file_extension": ".py",
   "mimetype": "text/x-python",
   "name": "python",
   "nbconvert_exporter": "python",
   "pygments_lexer": "ipython3",
   "version": "3.12.4"
  }
 },
 "nbformat": 4,
 "nbformat_minor": 2
}
